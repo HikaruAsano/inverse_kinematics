{
 "nbformat": 4,
 "nbformat_minor": 2,
 "metadata": {
  "language_info": {
   "name": "python",
   "codemirror_mode": {
    "name": "ipython",
    "version": 3
   },
   "version": "3.7.4-final"
  },
  "orig_nbformat": 2,
  "file_extension": ".py",
  "mimetype": "text/x-python",
  "name": "python",
  "npconvert_exporter": "python",
  "pygments_lexer": "ipython3",
  "version": 3,
  "kernelspec": {
   "name": "python37464bitb0d611fae1df44cbb98e8064ff4c1169",
   "display_name": "Python 3.7.4 64-bit"
  }
 },
 "cells": [
  {
   "cell_type": "code",
   "execution_count": 10,
   "metadata": {},
   "outputs": [],
   "source": [
    "import serial\n",
    "import time\n",
    "import copy\n",
    "from tkinter import *\n",
    "\n",
    "\n",
    "class Position:\n",
    "    def __init__(self, base, shoulder, elbow, wrist, wrist_rotation, gripper):\n",
    "        self.angels = [0, 0, 0, 0, 0, 0]\n",
    "        self.angels[0] = base\n",
    "        self.angels[1] = shoulder\n",
    "        self.angels[2] = elbow\n",
    "        self.angels[3] = wrist\n",
    "        self.angels[4] = wrist_rotation\n",
    "        self.angels[5] = gripper\n",
    "\n",
    "    def set(self, joint_number, value):\n",
    "        self.angels[joint_number] = min(max(value, 0), 180)\n",
    "\n",
    "    def get(self, joint_number):\n",
    "        return self.angels[joint_number]\n",
    "\n",
    "    def add(self, joint_number, value):\n",
    "        self.set(joint_number, self.angels[joint_number] + value)\n",
    "\n",
    "    def to_string(self):\n",
    "        result = \"\"\n",
    "        separator = \"\"\n",
    "        for angel in self.angels:\n",
    "            result = result + separator + str(angel)\n",
    "            separator = \",\"\n",
    "        return result\n",
    "\n",
    "\n",
    "class Braccio:\n",
    "    def __init__(self, serial_port):\n",
    "        self.port = serial.Serial(serial_port, 115200, timeout=5)\n",
    "        time.sleep(3)\n",
    "\n",
    "    def write(self, string):\n",
    "        self.port.write(string.encode())\n",
    "        self.port.readline()\n",
    "\n",
    "    def move_to_position(self, position, speed):\n",
    "        self.write('P' + position.to_string() + ',' + str(speed) + '\\n')\n",
    "\n",
    "    def power_off(self):\n",
    "        self.write('0\\n')\n",
    "\n",
    "    def power_on(self):\n",
    "        self.write('0\\n')\n",
    "\n",
    "\n",
    "moves = {'q': (0, 1), 'a': (0, -1),\n",
    "         'w': (1, 1), 's': (1, -1),\n",
    "         'e': (2, 1), 'd': (2, -1),\n",
    "         'r': (3, 1), 'f': (3, -1),\n",
    "         't': (4, 1), 'g': (4, -1),\n",
    "         'y': (5, 1), 'h': (5, -1)}\n",
    "\n",
    "\n",
    "position_names = {'0': 0, '1': 1, '2': 2, '3': 3, '4': 4, '5': 5, '6': 6, '7': 7, '8': 8, '9': 9}\n",
    "\n",
    "\n",
    "def move_joint(joint_number, angle):\n",
    "    positions[current_position].add(joint_number, angle)\n",
    "    robot.move_to_position(positions[current_position], move_speed)\n",
    "    joint_labels[joint_number].config(text=str(positions[current_position].get(joint_number)))\n",
    "    joint_labels[joint_number].update_idletasks()\n",
    "\n",
    "\n",
    "def change_position(position):\n",
    "    global current_position, positions, last_position\n",
    "    if positions[position] is None:\n",
    "        positions[position] = copy.deepcopy(positions[current_position])\n",
    "    last_position = current_position\n",
    "    current_position = position\n",
    "    robot.move_to_position(positions[current_position], move_speed)\n",
    "    position_label.config(text=str(position))\n",
    "    position_label.update_idletasks()\n",
    "    for j in range(0, len(joints)):\n",
    "        joint_labels[j].config(text=str(positions[current_position].get(j)))\n",
    "        joint_labels[j].update_idletasks()\n",
    "\n",
    "\n",
    "def key_pressed(event):\n",
    "    global positions\n",
    "    if event.char in moves:\n",
    "        move = moves[event.char]\n",
    "        move_joint(move[0], move[1])\n",
    "    elif event.char in position_names:\n",
    "        change_position(position_names[event.char])\n",
    "    elif event.char == \"c\":\n",
    "        positions[current_position] = copy.deepcopy(positions[last_position])\n",
    "        change_position(current_position)\n",
    "\n",
    "\n",
    "def setup_gui():\n",
    "    global position_label\n",
    "    root = Tk()\n",
    "    root.title('Braccio Robot')\n",
    "    root.bind('<Key>', key_pressed)\n",
    "    Label(text='Move robot joints with keyboard keys\\nChange positions with numerical keys') \\\n",
    "        .grid(row=0, column=0, columnspan=2, padx=(30, 30))\n",
    "    Label(text='Current position:').grid(row=1, column=0)\n",
    "    position_label = Label(text=str(current_position))\n",
    "    position_label.grid(row=1, column=1)\n",
    "\n",
    "    i = 0\n",
    "    for joint in joints:\n",
    "        Label(text=joint).grid(row=2 + i, column=0)\n",
    "        label = Label(text=str(positions[current_position].get(i)))\n",
    "        label.grid(row=2 + i, column=1)\n",
    "        joint_labels.append(label)\n",
    "        i += 1\n",
    "    root.mainloop()"
   ]
  },
  {
   "cell_type": "code",
   "execution_count": 13,
   "metadata": {},
   "outputs": [],
   "source": [
    "joints = ['Base [q,a]', 'Shoulder [w,s]', 'Elbow [e,d]', 'Wrist [r,f]', 'Wrist rotation [t,g]', 'Gripper [y,h]']\n",
    "home = Position(90, 90, 90, 90, 90, 72)\n",
    "positions = [copy.deepcopy(home), None, None, None, None, None, None, None, None, None]\n",
    "current_position = 0\n",
    "last_position = 0\n",
    "move_speed = 100\n",
    "joint_labels = []\n",
    "position_label = None"
   ]
  },
  {
   "cell_type": "code",
   "execution_count": 16,
   "metadata": {},
   "outputs": [],
   "source": [
    "port = input(\"Enter serial port: \")\n",
    "robot = Braccio(port)\n",
    "robot.move_to_position(home, 80)"
   ]
  },
  {
   "cell_type": "code",
   "execution_count": 10,
   "metadata": {},
   "outputs": [],
   "source": [
    "robot.move_to_position(Position(70, 70, 90, 90, 60, 72),70)"
   ]
  },
  {
   "cell_type": "code",
   "execution_count": 16,
   "metadata": {},
   "outputs": [],
   "source": [
    "robot.power_off()"
   ]
  },
  {
   "cell_type": "code",
   "execution_count": 12,
   "metadata": {},
   "outputs": [],
   "source": [
    "from tkinter import *"
   ]
  },
  {
   "cell_type": "code",
   "execution_count": 17,
   "metadata": {},
   "outputs": [],
   "source": [
    "robot.power_on()"
   ]
  },
  {
   "cell_type": "code",
   "execution_count": 18,
   "metadata": {},
   "outputs": [],
   "source": [
    "home = Position(0, 0, 0, 0, 0, 2)"
   ]
  },
  {
   "cell_type": "code",
   "execution_count": 19,
   "metadata": {},
   "outputs": [],
   "source": [
    "robot.move_to_position(home,80)"
   ]
  },
  {
   "cell_type": "code",
   "execution_count": 21,
   "metadata": {},
   "outputs": [
    {
     "ename": "AttributeError",
     "evalue": "'int' object has no attribute 'to_string'",
     "output_type": "error",
     "traceback": [
      "\u001b[0;31m---------------------------------------------------------------------------\u001b[0m",
      "\u001b[0;31mAttributeError\u001b[0m                            Traceback (most recent call last)",
      "\u001b[0;32m<ipython-input-21-bf8c6966acfd>\u001b[0m in \u001b[0;36m<module>\u001b[0;34m\u001b[0m\n\u001b[0;32m----> 1\u001b[0;31m \u001b[0mrobot\u001b[0m\u001b[0;34m.\u001b[0m\u001b[0mmove_to_position\u001b[0m\u001b[0;34m(\u001b[0m\u001b[0;36m80\u001b[0m\u001b[0;34m,\u001b[0m\u001b[0;36m809\u001b[0m\u001b[0;34m)\u001b[0m\u001b[0;34m\u001b[0m\u001b[0;34m\u001b[0m\u001b[0m\n\u001b[0m",
      "\u001b[0;32m<ipython-input-13-691d0888c9d5>\u001b[0m in \u001b[0;36mmove_to_position\u001b[0;34m(self, position, speed)\u001b[0m\n\u001b[1;32m     43\u001b[0m \u001b[0;34m\u001b[0m\u001b[0m\n\u001b[1;32m     44\u001b[0m     \u001b[0;32mdef\u001b[0m \u001b[0mmove_to_position\u001b[0m\u001b[0;34m(\u001b[0m\u001b[0mself\u001b[0m\u001b[0;34m,\u001b[0m \u001b[0mposition\u001b[0m\u001b[0;34m,\u001b[0m \u001b[0mspeed\u001b[0m\u001b[0;34m)\u001b[0m\u001b[0;34m:\u001b[0m\u001b[0;34m\u001b[0m\u001b[0;34m\u001b[0m\u001b[0m\n\u001b[0;32m---> 45\u001b[0;31m         \u001b[0mself\u001b[0m\u001b[0;34m.\u001b[0m\u001b[0mwrite\u001b[0m\u001b[0;34m(\u001b[0m\u001b[0;34m'P'\u001b[0m \u001b[0;34m+\u001b[0m \u001b[0mposition\u001b[0m\u001b[0;34m.\u001b[0m\u001b[0mto_string\u001b[0m\u001b[0;34m(\u001b[0m\u001b[0;34m)\u001b[0m \u001b[0;34m+\u001b[0m \u001b[0;34m','\u001b[0m \u001b[0;34m+\u001b[0m \u001b[0mstr\u001b[0m\u001b[0;34m(\u001b[0m\u001b[0mspeed\u001b[0m\u001b[0;34m)\u001b[0m \u001b[0;34m+\u001b[0m \u001b[0;34m'\\n'\u001b[0m\u001b[0;34m)\u001b[0m\u001b[0;34m\u001b[0m\u001b[0;34m\u001b[0m\u001b[0m\n\u001b[0m\u001b[1;32m     46\u001b[0m \u001b[0;34m\u001b[0m\u001b[0m\n\u001b[1;32m     47\u001b[0m     \u001b[0;32mdef\u001b[0m \u001b[0mpower_off\u001b[0m\u001b[0;34m(\u001b[0m\u001b[0mself\u001b[0m\u001b[0;34m)\u001b[0m\u001b[0;34m:\u001b[0m\u001b[0;34m\u001b[0m\u001b[0;34m\u001b[0m\u001b[0m\n",
      "\u001b[0;31mAttributeError\u001b[0m: 'int' object has no attribute 'to_string'"
     ]
    }
   ],
   "source": [
    "robot.move_to_position(80,809)"
   ]
  },
  {
   "cell_type": "code",
   "execution_count": 1,
   "metadata": {},
   "outputs": [
    {
     "data": {
      "text/plain": "(10, 0, 44, 0, 31, 0, 73)"
     },
     "execution_count": 1,
     "metadata": {},
     "output_type": "execute_result"
    }
   ],
   "source": [
    "10,           0,  44, 0, 31, 0,  73"
   ]
  },
  {
   "cell_type": "code",
   "execution_count": 11,
   "metadata": {},
   "outputs": [],
   "source": [
    "import serial"
   ]
  },
  {
   "cell_type": "code",
   "execution_count": 12,
   "metadata": {},
   "outputs": [],
   "source": [
    "ser=serial.Serial(\"/dev/tty.usbmodem143401\",baudrate=9600,timeout=1)"
   ]
  },
  {
   "cell_type": "code",
   "execution_count": 18,
   "metadata": {},
   "outputs": [],
   "source": [
    "ser.close()"
   ]
  },
  {
   "cell_type": "code",
   "execution_count": 20,
   "metadata": {},
   "outputs": [],
   "source": [
    "robot.port.close()"
   ]
  },
  {
   "cell_type": "code",
   "execution_count": null,
   "metadata": {},
   "outputs": [],
   "source": []
  }
 ]
}