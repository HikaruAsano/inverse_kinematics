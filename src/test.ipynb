{
 "nbformat": 4,
 "nbformat_minor": 2,
 "metadata": {
  "language_info": {
   "name": "python",
   "codemirror_mode": {
    "name": "ipython",
    "version": 3
   },
   "version": "3.7.4-final"
  },
  "orig_nbformat": 2,
  "file_extension": ".py",
  "mimetype": "text/x-python",
  "name": "python",
  "npconvert_exporter": "python",
  "pygments_lexer": "ipython3",
  "version": 3,
  "kernelspec": {
   "name": "python37464bitb0d611fae1df44cbb98e8064ff4c1169",
   "display_name": "Python 3.7.4 64-bit"
  }
 },
 "cells": [
  {
   "cell_type": "code",
   "execution_count": 1,
   "metadata": {},
   "outputs": [],
   "source": [
    "import chainer \n",
    "import chainer.functions as F \n",
    "import chainer.links as L \n",
    "import chainerrl\n",
    "import gym\n",
    "import numpy as np\n",
    "from gym import spaces\n",
    "from arm import Arm"
   ]
  },
  {
   "cell_type": "code",
   "execution_count": 2,
   "metadata": {},
   "outputs": [
    {
     "name": "stdout",
     "output_type": "stream",
     "text": "observation space: [0.         0.         0.         2.77425477 2.64038567]\naction space: [[ 0.00872665  0.          0.        ]\n [ 0.          0.00872665  0.        ]\n [ 0.          0.          0.00872665]\n [-0.00872665  0.          0.        ]\n [ 0.         -0.00872665  0.        ]\n [ 0.          0.         -0.00872665]]\ninitial observation: [0.         0.         0.         1.12480337 2.73100807]\n5\nnext observation: [ 0.          0.         -0.00872665  1.12480337  2.73100807]\nreward: -10.974767486231736\n"
    },
    {
     "data": {
      "text/plain": "6"
     },
     "execution_count": 2,
     "metadata": {},
     "output_type": "execute_result"
    }
   ],
   "source": [
    "env=Arm(3,[1.,1.,1.])\n",
    "print('observation space:',env.state)\n",
    "print('action space:',env.actions)\n",
    "obs=env.reset()\n",
    "\n",
    "#env.render()\n",
    "print('initial observation:',obs)\n",
    "\n",
    "action=env.random_action()\n",
    "print(action)\n",
    "state,r,done=env.step(action)\n",
    "print('next observation:',state)\n",
    "print('reward:',r)\n",
    "env.actions.shape[0]"
   ]
  },
  {
   "cell_type": "code",
   "execution_count": 3,
   "metadata": {},
   "outputs": [],
   "source": [
    "class QFunction(chainer.Chain):\n",
    "\n",
    "    def __init__(self,obs_size,n_actions,n_hidden_channels=50):\n",
    "        super().__init__()\n",
    "        with self.init_scope():\n",
    "            self.l0=L.Linear(obs_size,n_hidden_channels)\n",
    "            self.l1=L.Linear(n_hidden_channels,n_hidden_channels*2)\n",
    "            self.l2=L.Linear(n_hidden_channels*2,n_hidden_channels*2)\n",
    "            self.l3=L.Linear(n_hidden_channels*2,n_actions)\n",
    "\n",
    "    def __call__(self,x,test=False):\n",
    "        h=F.tanh(self.l0(x))\n",
    "        h=F.tanh(self.l1(h))\n",
    "        h=F.tanh(self.l2(h))\n",
    "        return chainerrl.action_value.DiscreteActionValue(self.l3(h))\n",
    "\n",
    "obs_size=env.state.shape[0]\n",
    "n_actions=env.actions.shape[0]\n",
    "q_func=QFunction(obs_size,n_actions)"
   ]
  },
  {
   "cell_type": "code",
   "execution_count": 4,
   "metadata": {},
   "outputs": [
    {
     "data": {
      "text/plain": "<chainer.optimizers.adam.Adam at 0x11f0f6110>"
     },
     "execution_count": 4,
     "metadata": {},
     "output_type": "execute_result"
    }
   ],
   "source": [
    "optimizer=chainer.optimizers.Adam(eps=1e-2)\n",
    "optimizer.setup(q_func)"
   ]
  },
  {
   "cell_type": "code",
   "execution_count": 7,
   "metadata": {},
   "outputs": [
    {
     "output_type": "stream",
     "name": "stdout",
     "text": "episode: 10 R: -650.6755386920598 statistics: [('average_q', -36.485194439197336), ('average_loss', 0.32358053795664415), ('n_updates', 83758)]\nepisode: 20 R: -61.799300408341566 statistics: [('average_q', -34.90047679719849), ('average_loss', 0.526691046857662), ('n_updates', 92770)]\nepisode: 30 R: -1799.2692197392084 statistics: [('average_q', -44.946415915292945), ('average_loss', 0.45843705064452006), ('n_updates', 102360)]\n"
    }
   ],
   "source": [
    "gamma=0.99\n",
    "\n",
    "#######################################\n",
    "explorer=chainerrl.explorers.ConstantEpsilonGreedy(\n",
    "    epsilon=0.2,random_action_func=env.action_space_d.sample)\n",
    "\n",
    "replay_buffer=chainerrl.replay_buffer.ReplayBuffer(capacity=10**6)\n",
    "phi=lambda x:x.astype(np.float32,copy=False)\n",
    "agent=chainerrl.agents.DoubleDQN(\n",
    "    q_func,optimizer,replay_buffer,gamma,explorer,\n",
    "    replay_start_size=500,update_interval=1,target_update_interval=100,phi=phi)\n",
    "\n",
    "n_episodes = 10000\n",
    "max_episode_len = 1000\n",
    "for i in range(1, n_episodes + 1):\n",
    "    obs = env.reset()\n",
    "    reward = 0\n",
    "    done = False\n",
    "    R = 0  # return (sum of rewards)\n",
    "    t = 0  # time step\n",
    "    while not done and t < max_episode_len:\n",
    "        # Uncomment to watch the behaviour\n",
    "        # env.render()\n",
    "        action = agent.act_and_train(obs, reward)\n",
    "        obs, reward, done = env.step(action)\n",
    "        R += reward\n",
    "        t += 1\n",
    "    #print(\"total step of this iteration:\"+str(t))\n",
    "    #print(\"last error of this step:\"+str(reward))\n",
    "    if i % 10 == 0:\n",
    "        print('episode:', i,\n",
    "              'R:', R,\n",
    "              'statistics:', agent.get_statistics())\n",
    "    agent.stop_episode_and_train(obs, reward, done)\n",
    "    if i%100==0:\n",
    "        agent.save(\"agent_\"+str(i))\n",
    "\n",
    "print('Finished.')\n",
    "\n",
    "\n",
    "\n",
    "\n",
    "\n",
    "\n",
    ""
   ]
  },
  {
   "cell_type": "code",
   "execution_count": 33,
   "metadata": {},
   "outputs": [],
   "source": [
    "import serial"
   ]
  },
  {
   "cell_type": "code",
   "execution_count": 34,
   "metadata": {},
   "outputs": [],
   "source": [
    "ser=serial.Serial(\"/dev/tty.usbmodem143401\",baudrate=115200,timeout=1)"
   ]
  },
  {
   "cell_type": "code",
   "execution_count": 35,
   "metadata": {},
   "outputs": [],
   "source": [
    "data=ser.readlines()"
   ]
  },
  {
   "cell_type": "code",
   "execution_count": 36,
   "metadata": {},
   "outputs": [
    {
     "output_type": "stream",
     "name": "stdout",
     "text": "[]\n"
    }
   ],
   "source": [
    "print(data)"
   ]
  },
  {
   "cell_type": "code",
   "execution_count": 39,
   "metadata": {},
   "outputs": [],
   "source": [
    "ser.close()"
   ]
  },
  {
   "cell_type": "code",
   "execution_count": 40,
   "metadata": {},
   "outputs": [],
   "source": [
    "ser.close()"
   ]
  },
  {
   "cell_type": "code",
   "execution_count": null,
   "metadata": {},
   "outputs": [],
   "source": []
  }
 ]
}