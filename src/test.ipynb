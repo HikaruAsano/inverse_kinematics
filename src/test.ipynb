{
 "nbformat": 4,
 "nbformat_minor": 2,
 "metadata": {
  "language_info": {
   "name": "python",
   "codemirror_mode": {
    "name": "ipython",
    "version": 3
   },
   "version": "3.7.4-final"
  },
  "orig_nbformat": 2,
  "file_extension": ".py",
  "mimetype": "text/x-python",
  "name": "python",
  "npconvert_exporter": "python",
  "pygments_lexer": "ipython3",
  "version": 3,
  "kernelspec": {
   "name": "python37464bitb0d611fae1df44cbb98e8064ff4c1169",
   "display_name": "Python 3.7.4 64-bit"
  }
 },
 "cells": [
  {
   "cell_type": "code",
   "execution_count": 12,
   "metadata": {},
   "outputs": [],
   "source": [
    "import chainer \n",
    "import chainer.functions as F \n",
    "import chainer.links as L \n",
    "import chainerrl\n",
    "import gym\n",
    "import numpy as np\n",
    "from arm import Arm\n",
    "from gym import spaces"
   ]
  },
  {
   "cell_type": "code",
   "execution_count": null,
   "metadata": {},
   "outputs": [],
   "source": [
    "env=Arm(3,[1.,2.,3.])\n",
    "print('observation space:',env.th)\n",
    "print('action space:',env.actions)\n",
    "obs=env.reset()\n",
    "\n",
    "#env.render()\n",
    "print('initial observation:',obs)\n",
    "\n",
    "action=env.random_action()\n",
    "print(action)\n",
    "state,r,done=env.step(action)\n",
    "print('next observation:',state)\n",
    "print('reward:',r)\n",
    "env.action_space"
   ]
  },
  {
   "cell_type": "code",
   "execution_count": 14,
   "metadata": {},
   "outputs": [],
   "source": [
    "class QFunction(chainer.Chain):\n",
    "\n",
    "    def __init__(self,obs_size,n_actions,n_hidden_channels=50):\n",
    "        super().__init__()\n",
    "        with self.init_scope():\n",
    "            self.l0=L.Linear(obs_size,n_hidden_channels)\n",
    "            self.l1=L.Linear(n_hidden_channels,n_hidden_channels)\n",
    "            self.l2=L.Linear(n_hidden_channels,n_actions)\n",
    "\n",
    "    def __call__(self,x,test=False):\n",
    "        h=F.tanh(self.l0(x))\n",
    "        h=F.tanh(self.l1(h))\n",
    "        return chainerrl.action_value.DiscreteActionValue(self.l2(h))\n",
    "\n",
    "obs_size=env.n_part\n",
    "n_actions=env.actions.shape[0]\n",
    "q_func=QFunction(obs_size,n_actions)"
   ]
  },
  {
   "cell_type": "code",
   "execution_count": 15,
   "metadata": {},
   "outputs": [
    {
     "data": {
      "text/plain": "<chainer.optimizers.adam.Adam at 0x11e0dbd90>"
     },
     "execution_count": 15,
     "metadata": {},
     "output_type": "execute_result"
    }
   ],
   "source": [
    "optimizer=chainer.optimizers.Adam(eps=1e-2)\n",
    "optimizer.setup(q_func)"
   ]
  },
  {
   "cell_type": "code",
   "execution_count": null,
   "metadata": {},
   "outputs": [],
   "source": [
    "gamma=0.95\n",
    "\n",
    "#######################################\n",
    "explorer=chainerrl.explorers.ConstantEpsilonGreedy(\n",
    "    epsilon=0.2,random_action_func=env.action_space_d.sample)\n",
    "\n",
    "replay_buffer=chainerrl.replay_buffer.ReplayBuffer(capacity=10**6)\n",
    "phi=lambda x:x.astype(np.float32,copy=False)\n",
    "agent=chainerrl.agents.DoubleDQN(\n",
    "    q_func,optimizer,replay_buffer,gamma,explorer,\n",
    "    replay_start_size=500,update_interval=1,target_update_interval=100,phi=phi)\n",
    "\n",
    "n_episodes = 1000\n",
    "max_episode_len = 400\n",
    "for i in range(1, n_episodes + 1):\n",
    "    obs = env.reset()\n",
    "    reward = 0\n",
    "    done = False\n",
    "    R = 0  # return (sum of rewards)\n",
    "    t = 0  # time step\n",
    "    while not done and t < max_episode_len:\n",
    "        # Uncomment to watch the behaviour\n",
    "        # env.render()\n",
    "        action = agent.act_and_train(obs, reward)\n",
    "        obs, reward, done = env.step(action)\n",
    "        R += reward\n",
    "        t += 1\n",
    "    if i % 10 == 0:\n",
    "        print('episode:', i,\n",
    "              'R:', R,\n",
    "              'statistics:', agent.get_statistics())\n",
    "    agent.stop_episode_and_train(obs, reward, done)\n",
    "print('Finished.')\n",
    "\n",
    "\n",
    "\n",
    "\n",
    "\n",
    "\n"
   ]
  },
  {
   "cell_type": "code",
   "execution_count": null,
   "metadata": {},
   "outputs": [],
   "source": []
  }
 ]
}